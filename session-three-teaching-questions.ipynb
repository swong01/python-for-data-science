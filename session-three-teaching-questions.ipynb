{
 "cells": [
  {
   "cell_type": "markdown",
   "metadata": {},
   "source": [
    "# Python for Data Science Teaching Session 3: Data Processing"
   ]
  },
  {
   "cell_type": "markdown",
   "metadata": {},
   "source": [
    "## Introduction"
   ]
  },
  {
   "cell_type": "markdown",
   "metadata": {},
   "source": [
    "### Session Objectives"
   ]
  },
  {
   "cell_type": "markdown",
   "metadata": {},
   "source": [
    "- Creating arrays and accessing elements\n",
    "- Reshaping and combining arrays\n",
    "- Arithmetic and aggregations\n",
    "- Filtering and sorting"
   ]
  },
  {
   "cell_type": "markdown",
   "metadata": {},
   "source": [
    "## Getting Started with NumPy"
   ]
  },
  {
   "cell_type": "markdown",
   "metadata": {},
   "source": [
    "### What is NumPy?"
   ]
  },
  {
   "cell_type": "markdown",
   "metadata": {},
   "source": [
    "In one word, fast. NumPy is a Python package (and part of the SciPy stack) devoted to processing and performing mathematical operations on data. Although faster solutions do exist ([Numba](https://numba.pydata.org/), [TensorFlow](https://www.tensorflow.org/overview), etc.), NumPy is powerful enough for almost all use cases."
   ]
  },
  {
   "cell_type": "markdown",
   "metadata": {},
   "source": [
    "The backbone of NumPy is the array. These arrays differ from Pandas dataframes and base Python lists in two ways:\n",
    "\n",
    "- The same datatype must be used for all elements in an array\n",
    "- Every axis (dimension) must contain blocks of the same shape (i.e. arrays are rectangular, cuboidal, etc.)\n",
    "\n",
    "Because we have consistent types and structure, operations on NumPy arrays can be performed much faster than methods we've seen so far."
   ]
  },
  {
   "cell_type": "markdown",
   "metadata": {},
   "source": [
    "> **Technical Note**\n",
    ">\n",
    "> Technically, the second rule can be relaxed, in which case we obtain what is known as a _ragged array_. This however loses most of the efficiency of NumPy so is advised against."
   ]
  },
  {
   "cell_type": "markdown",
   "metadata": {},
   "source": [
    "Typically we import `numpy` under the alias `np`"
   ]
  },
  {
   "cell_type": "code",
   "execution_count": 2,
   "metadata": {},
   "outputs": [],
   "source": [
    "# Import packages\n",
    "import matplotlib.pyplot as plt\n",
    "import numpy as np\n",
    "import pandas as pd"
   ]
  },
  {
   "cell_type": "markdown",
   "metadata": {},
   "source": [
    "### Creating an Array"
   ]
  },
  {
   "cell_type": "markdown",
   "metadata": {},
   "source": [
    "#### From Lists"
   ]
  },
  {
   "cell_type": "markdown",
   "metadata": {},
   "source": [
    "The simplest way to create an array is by passing a number, list, list-of-lists, etc. into `np.array`. As with, Pandas dataframes, we can then view the dimensions of the array with the `.shape` attribute."
   ]
  },
  {
   "cell_type": "code",
   "execution_count": 4,
   "metadata": {},
   "outputs": [
    {
     "name": "stdout",
     "output_type": "stream",
     "text": [
      "42\n",
      "()\n"
     ]
    }
   ],
   "source": [
    "# Create a 0-D array and print its shape\n",
    "arr = np.array(42)\n",
    "print(arr)\n",
    "print(arr.shape)"
   ]
  },
  {
   "cell_type": "code",
   "execution_count": 6,
   "metadata": {},
   "outputs": [
    {
     "name": "stdout",
     "output_type": "stream",
     "text": [
      "[1 2 3]\n",
      "(3,)\n"
     ]
    }
   ],
   "source": [
    "# Create a 1-D array and print its shape\n",
    "arr = np.array([1, 2, 3])\n",
    "print(arr)\n",
    "print(arr.shape)"
   ]
  },
  {
   "cell_type": "markdown",
   "metadata": {},
   "source": [
    "> **An Idea to Ponder**\n",
    ">\n",
    "> What is the difference between `(3)` and `(3,)`? Perhaps look at their `type(...)`."
   ]
  },
  {
   "cell_type": "code",
   "execution_count": 7,
   "metadata": {},
   "outputs": [
    {
     "name": "stdout",
     "output_type": "stream",
     "text": [
      "[[1 2 3]\n",
      " [4 5 6]]\n",
      "(2, 3)\n"
     ]
    }
   ],
   "source": [
    "# Create a 2-D array and print its shape\n",
    "arr = np.array([\n",
    "    [1, 2, 3],\n",
    "    [4, 5, 6]\n",
    "])\n",
    "print(arr)\n",
    "print(arr.shape)"
   ]
  },
  {
   "cell_type": "markdown",
   "metadata": {},
   "source": [
    "If we provide lists containing different datatypes, NumPy will try to coerce them into the same type (giving an error if this process fails)."
   ]
  },
  {
   "cell_type": "code",
   "execution_count": 9,
   "metadata": {},
   "outputs": [
    {
     "data": {
      "text/plain": [
       "array([[1., 2.],\n",
       "       [3., 4.]])"
      ]
     },
     "execution_count": 9,
     "metadata": {},
     "output_type": "execute_result"
    }
   ],
   "source": [
    "# Create an array from different data types\n",
    "arr = np.array([\n",
    "    [True, 2],\n",
    "    [3.0, 4]\n",
    "])\n",
    "arr"
   ]
  },
  {
   "cell_type": "markdown",
   "metadata": {},
   "source": [
    "In general, it can be hard to predict what datatype you will obtain when doing this, so it is best practice to ensure that you have the same datatype _before_ creating an array."
   ]
  },
  {
   "cell_type": "markdown",
   "metadata": {},
   "source": [
    "> **Further Reading**\n",
    ">\n",
    "> You can convert between types by using the `.astype()` method of a NumPy array, passing in one of the types listed [here](https://numpy.org/devdocs/user/basics.types.html). E.g. `arr.astype(np.int32)`."
   ]
  },
  {
   "cell_type": "markdown",
   "metadata": {},
   "source": [
    "Notice, that by nesting lists in lists, you can create arrays with different dimensions that contain the same data."
   ]
  },
  {
   "cell_type": "code",
   "execution_count": 10,
   "metadata": {},
   "outputs": [
    {
     "name": "stdout",
     "output_type": "stream",
     "text": [
      "() (1, 1)\n"
     ]
    }
   ],
   "source": [
    "# Create arr1, arr2 with the same data but different dimensions\n",
    "arr1 = np.array(42)\n",
    "arr2 = np.array([[42]])\n",
    "print(arr1.shape, arr2.shape)"
   ]
  },
  {
   "cell_type": "markdown",
   "metadata": {},
   "source": [
    "#### Random Arrays"
   ]
  },
  {
   "cell_type": "markdown",
   "metadata": {},
   "source": [
    "NumPy has the ability to create random arrays. This is done using the `random` submodule whose documentation can be found [here](https://numpy.org/doc/1.16/reference/routines.random.html)."
   ]
  },
  {
   "cell_type": "code",
   "execution_count": 12,
   "metadata": {},
   "outputs": [
    {
     "data": {
      "text/plain": [
       "array([[[ 15,  84,  56],\n",
       "        [ 56,  30,  45]],\n",
       "\n",
       "       [[ 41,  59,  70],\n",
       "        [ 86,  82,  56]],\n",
       "\n",
       "       [[  3,  60, 100],\n",
       "        [ 47,  82,  48]]])"
      ]
     },
     "execution_count": 12,
     "metadata": {},
     "output_type": "execute_result"
    }
   ],
   "source": [
    "# Create a 3x2x3 grid of random integers between 1 and 100\n",
    "np.random.randint(1, 101, size=(3, 2, 3))"
   ]
  },
  {
   "cell_type": "markdown",
   "metadata": {},
   "source": [
    "> **Warning**\n",
    ">\n",
    "> All `np.random` functions use the parameter `size` to specify the arrays `shape`. This is because many distributions such as `gamma` already have a `shape` parameter. "
   ]
  },
  {
   "cell_type": "markdown",
   "metadata": {},
   "source": [
    "We can create reproducible randomness using `np.random.seed(...)`."
   ]
  },
  {
   "cell_type": "code",
   "execution_count": 13,
   "metadata": {},
   "outputs": [
    {
     "data": {
      "text/plain": [
       "array([ 0.49671415, -0.1382643 ,  0.64768854,  1.52302986, -0.23415337,\n",
       "       -0.23413696,  1.57921282,  0.76743473, -0.46947439,  0.54256004])"
      ]
     },
     "execution_count": 13,
     "metadata": {},
     "output_type": "execute_result"
    }
   ],
   "source": [
    "# Set the random seed to 42 and generate 10 random standard normal samples\n",
    "np.random.seed(42)\n",
    "np.random.standard_normal(size=(10,))"
   ]
  },
  {
   "cell_type": "markdown",
   "metadata": {},
   "source": [
    "#### Arrays from Dataframes"
   ]
  },
  {
   "cell_type": "markdown",
   "metadata": {},
   "source": [
    "We can convert entire dataframes, series or indexes into NumPy arrays, using the `.to_numpy()` method. It is important to only do this when datatypes are consistent else this may result in unexpected type conversions or a errors."
   ]
  },
  {
   "cell_type": "markdown",
   "metadata": {},
   "source": [
    "> **Good to Know**\n",
    ">\n",
    "> In older versions of Pandas, the same effect could be achieved using the `.values` attribute. This is however being fazed out for the more consistent `.to_numpy()` approach. "
   ]
  },
  {
   "cell_type": "markdown",
   "metadata": {},
   "source": [
    "For example, we can extract the predictors from the iris dataset as a NumPy array."
   ]
  },
  {
   "cell_type": "code",
   "execution_count": 14,
   "metadata": {},
   "outputs": [
    {
     "data": {
      "text/html": [
       "<div>\n",
       "<style scoped>\n",
       "    .dataframe tbody tr th:only-of-type {\n",
       "        vertical-align: middle;\n",
       "    }\n",
       "\n",
       "    .dataframe tbody tr th {\n",
       "        vertical-align: top;\n",
       "    }\n",
       "\n",
       "    .dataframe thead th {\n",
       "        text-align: right;\n",
       "    }\n",
       "</style>\n",
       "<table border=\"1\" class=\"dataframe\">\n",
       "  <thead>\n",
       "    <tr style=\"text-align: right;\">\n",
       "      <th></th>\n",
       "      <th>sepal_length</th>\n",
       "      <th>sepal_width</th>\n",
       "      <th>petal_length</th>\n",
       "      <th>petal_width</th>\n",
       "      <th>species</th>\n",
       "    </tr>\n",
       "  </thead>\n",
       "  <tbody>\n",
       "    <tr>\n",
       "      <th>0</th>\n",
       "      <td>5.1</td>\n",
       "      <td>3.5</td>\n",
       "      <td>1.4</td>\n",
       "      <td>0.2</td>\n",
       "      <td>setosa</td>\n",
       "    </tr>\n",
       "    <tr>\n",
       "      <th>1</th>\n",
       "      <td>4.9</td>\n",
       "      <td>3.0</td>\n",
       "      <td>1.4</td>\n",
       "      <td>0.2</td>\n",
       "      <td>setosa</td>\n",
       "    </tr>\n",
       "    <tr>\n",
       "      <th>2</th>\n",
       "      <td>4.7</td>\n",
       "      <td>3.2</td>\n",
       "      <td>1.3</td>\n",
       "      <td>0.2</td>\n",
       "      <td>setosa</td>\n",
       "    </tr>\n",
       "    <tr>\n",
       "      <th>3</th>\n",
       "      <td>4.6</td>\n",
       "      <td>3.1</td>\n",
       "      <td>1.5</td>\n",
       "      <td>0.2</td>\n",
       "      <td>setosa</td>\n",
       "    </tr>\n",
       "    <tr>\n",
       "      <th>4</th>\n",
       "      <td>5.0</td>\n",
       "      <td>3.6</td>\n",
       "      <td>1.4</td>\n",
       "      <td>0.2</td>\n",
       "      <td>setosa</td>\n",
       "    </tr>\n",
       "  </tbody>\n",
       "</table>\n",
       "</div>"
      ],
      "text/plain": [
       "   sepal_length  sepal_width  petal_length  petal_width species\n",
       "0           5.1          3.5           1.4          0.2  setosa\n",
       "1           4.9          3.0           1.4          0.2  setosa\n",
       "2           4.7          3.2           1.3          0.2  setosa\n",
       "3           4.6          3.1           1.5          0.2  setosa\n",
       "4           5.0          3.6           1.4          0.2  setosa"
      ]
     },
     "execution_count": 14,
     "metadata": {},
     "output_type": "execute_result"
    }
   ],
   "source": [
    "# Load the iris dataset\n",
    "iris = pd.read_csv('https://raw.githubusercontent.com/mwaskom/seaborn-data/master/iris.csv')\n",
    "iris.head()"
   ]
  },
  {
   "cell_type": "code",
   "execution_count": 15,
   "metadata": {},
   "outputs": [
    {
     "data": {
      "text/plain": [
       "array([[5.1, 3.5, 1.4, 0.2],\n",
       "       [4.9, 3. , 1.4, 0.2],\n",
       "       [4.7, 3.2, 1.3, 0.2],\n",
       "       [4.6, 3.1, 1.5, 0.2],\n",
       "       [5. , 3.6, 1.4, 0.2],\n",
       "       [5.4, 3.9, 1.7, 0.4],\n",
       "       [4.6, 3.4, 1.4, 0.3],\n",
       "       [5. , 3.4, 1.5, 0.2],\n",
       "       [4.4, 2.9, 1.4, 0.2],\n",
       "       [4.9, 3.1, 1.5, 0.1]])"
      ]
     },
     "execution_count": 15,
     "metadata": {},
     "output_type": "execute_result"
    }
   ],
   "source": [
    "# Extract the first 10 rows predictors as an array, X\n",
    "X = iris.drop('species', axis=1).head(10).to_numpy()\n",
    "X"
   ]
  },
  {
   "cell_type": "markdown",
   "metadata": {},
   "source": [
    "In fact, Pandas dataframes are built on top of NumPy arrays. More on this in the project session."
   ]
  },
  {
   "cell_type": "markdown",
   "metadata": {},
   "source": [
    "### Array Attributes"
   ]
  },
  {
   "cell_type": "markdown",
   "metadata": {},
   "source": [
    "We have already seen the `shape` attribute of NumPy arrays. There are a few more of interest."
   ]
  },
  {
   "cell_type": "code",
   "execution_count": 16,
   "metadata": {},
   "outputs": [
    {
     "data": {
      "text/plain": [
       "2"
      ]
     },
     "execution_count": 16,
     "metadata": {},
     "output_type": "execute_result"
    }
   ],
   "source": [
    "# Number of dimensions of X\n",
    "X.ndim"
   ]
  },
  {
   "cell_type": "code",
   "execution_count": 17,
   "metadata": {},
   "outputs": [
    {
     "data": {
      "text/plain": [
       "dtype('float64')"
      ]
     },
     "execution_count": 17,
     "metadata": {},
     "output_type": "execute_result"
    }
   ],
   "source": [
    "# Datatype of X\n",
    "X.dtype"
   ]
  },
  {
   "cell_type": "code",
   "execution_count": 18,
   "metadata": {},
   "outputs": [
    {
     "data": {
      "text/plain": [
       "40"
      ]
     },
     "execution_count": 18,
     "metadata": {},
     "output_type": "execute_result"
    }
   ],
   "source": [
    "# Number of elements in X\n",
    "X.size"
   ]
  },
  {
   "cell_type": "code",
   "execution_count": 19,
   "metadata": {},
   "outputs": [
    {
     "data": {
      "text/plain": [
       "8"
      ]
     },
     "execution_count": 19,
     "metadata": {},
     "output_type": "execute_result"
    }
   ],
   "source": [
    "# Storage size for each element in X\n",
    "X.itemsize"
   ]
  },
  {
   "cell_type": "code",
   "execution_count": 20,
   "metadata": {},
   "outputs": [
    {
     "data": {
      "text/plain": [
       "320"
      ]
     },
     "execution_count": 20,
     "metadata": {},
     "output_type": "execute_result"
    }
   ],
   "source": [
    "# Total storage size of X (= X.size * X.itemsize)\n",
    "X.nbytes"
   ]
  },
  {
   "cell_type": "markdown",
   "metadata": {},
   "source": [
    "### Indexing and Slicing"
   ]
  },
  {
   "cell_type": "markdown",
   "metadata": {},
   "source": [
    "We can access individual elements of an array or create sub-arrays in the exact same way we would with Python lists or Pandas dataframes using `iloc`. We can specify as many indexes or slices as we like up to number of dimensions in the array, separated by commas."
   ]
  },
  {
   "cell_type": "markdown",
   "metadata": {},
   "source": [
    "> If your knowledge of slicing is lacking, checkout [session five](https://education.wdss.io/beginners-python/session-four/) of WDSS's Beginner's Python."
   ]
  },
  {
   "cell_type": "code",
   "execution_count": 21,
   "metadata": {},
   "outputs": [],
   "source": [
    "# Create an array to slice\n",
    "np.random.seed(253)\n",
    "arr = np.random.random(size=(10, 5, 3))"
   ]
  },
  {
   "cell_type": "code",
   "execution_count": 22,
   "metadata": {},
   "outputs": [
    {
     "data": {
      "text/plain": [
       "0.7114843937577212"
      ]
     },
     "execution_count": 22,
     "metadata": {},
     "output_type": "execute_result"
    }
   ],
   "source": [
    "# Extract the element in position (7, 4, 2)\n",
    "arr[6, 3, 1]"
   ]
  },
  {
   "cell_type": "code",
   "execution_count": 23,
   "metadata": {},
   "outputs": [
    {
     "data": {
      "text/plain": [
       "array([0.13452044, 0.3347907 , 0.26034674])"
      ]
     },
     "execution_count": 23,
     "metadata": {},
     "output_type": "execute_result"
    }
   ],
   "source": [
    "# Extract the 1D array in position (3, 4)\n",
    "arr[2, 3]"
   ]
  },
  {
   "cell_type": "code",
   "execution_count": 24,
   "metadata": {},
   "outputs": [
    {
     "data": {
      "text/plain": [
       "array([[0.26205987, 0.50778879, 0.11435038, 0.41124492, 0.51218467],\n",
       "       [0.99028703, 0.6962767 , 0.64491784, 0.56633963, 0.45558134],\n",
       "       [0.31493584, 0.39719045, 0.84375933, 0.13452044, 0.76019337],\n",
       "       [0.93490772, 0.54227946, 0.51076185, 0.80784063, 0.72523742],\n",
       "       [0.50692926, 0.08742934, 0.64120215, 0.17624222, 0.86956274],\n",
       "       [0.76315917, 0.35952798, 0.58121045, 0.91715346, 0.09449829],\n",
       "       [0.0437028 , 0.07151266, 0.92069023, 0.8984425 , 0.73208314],\n",
       "       [0.43901714, 0.55206071, 0.07054807, 0.2126681 , 0.07618652],\n",
       "       [0.70016563, 0.70240438, 0.75154075, 0.1491439 , 0.66730866],\n",
       "       [0.97202415, 0.85226302, 0.38743678, 0.50585151, 0.79759033]])"
      ]
     },
     "execution_count": 24,
     "metadata": {},
     "output_type": "execute_result"
    }
   ],
   "source": [
    "# Extract the first value of the 3rd dimension\n",
    "arr[:, :, 0]"
   ]
  },
  {
   "cell_type": "code",
   "execution_count": 25,
   "metadata": {},
   "outputs": [
    {
     "data": {
      "text/plain": [
       "array([[[0.51218467, 0.92913747, 0.74809565],\n",
       "        [0.41124492, 0.77063842, 0.38333664],\n",
       "        [0.11435038, 0.278223  , 0.21797983],\n",
       "        [0.50778879, 0.04692032, 0.62099122],\n",
       "        [0.26205987, 0.68349235, 0.52008663]],\n",
       "\n",
       "       [[0.72523742, 0.8791117 , 0.60874428],\n",
       "        [0.80784063, 0.25522802, 0.42375193],\n",
       "        [0.51076185, 0.47426722, 0.3435387 ],\n",
       "        [0.54227946, 0.52854479, 0.17747127],\n",
       "        [0.93490772, 0.98928119, 0.86569364]],\n",
       "\n",
       "       [[0.73208314, 0.45883571, 0.02274345],\n",
       "        [0.8984425 , 0.71148439, 0.81824145],\n",
       "        [0.92069023, 0.67437001, 0.26335589],\n",
       "        [0.07151266, 0.82908446, 0.92543517],\n",
       "        [0.0437028 , 0.01884263, 0.24144511]],\n",
       "\n",
       "       [[0.79759033, 0.48708846, 0.12075606],\n",
       "        [0.50585151, 0.82849029, 0.99082662],\n",
       "        [0.38743678, 0.92663656, 0.54344937],\n",
       "        [0.85226302, 0.16395977, 0.85765419],\n",
       "        [0.97202415, 0.30979346, 0.12241736]]])"
      ]
     },
     "execution_count": 25,
     "metadata": {},
     "output_type": "execute_result"
    }
   ],
   "source": [
    "# Reverse the 2nd dimension and extract every 3rd value of the 1st dimension\n",
    "arr[::3, ::-1]"
   ]
  },
  {
   "cell_type": "markdown",
   "metadata": {},
   "source": [
    "As with dataframes (but unlike lists) indexing and slicing copies by reference."
   ]
  },
  {
   "cell_type": "code",
   "execution_count": 26,
   "metadata": {},
   "outputs": [
    {
     "data": {
      "text/plain": [
       "array([[2, 4, 6],\n",
       "       [4, 5, 6]])"
      ]
     },
     "execution_count": 26,
     "metadata": {},
     "output_type": "execute_result"
    }
   ],
   "source": [
    "X = np.array([\n",
    "    [1, 2, 3],\n",
    "    [4, 5, 6]\n",
    "])\n",
    "X1 = X[0]\n",
    "X1 *= 2\n",
    "X"
   ]
  },
  {
   "cell_type": "markdown",
   "metadata": {},
   "source": [
    "To create copies, we use the `.copy()` method."
   ]
  },
  {
   "cell_type": "code",
   "execution_count": 27,
   "metadata": {},
   "outputs": [
    {
     "data": {
      "text/plain": [
       "array([[1, 2, 3],\n",
       "       [4, 5, 6]])"
      ]
     },
     "execution_count": 27,
     "metadata": {},
     "output_type": "execute_result"
    }
   ],
   "source": [
    "X = np.array([\n",
    "    [1, 2, 3],\n",
    "    [4, 5, 6]\n",
    "])\n",
    "X1 = X[0].copy()\n",
    "X1 *= 2\n",
    "X"
   ]
  },
  {
   "cell_type": "markdown",
   "metadata": {},
   "source": [
    "> **Further Reading**\n",
    ">\n",
    "> NumPy also allows indexing using arrays. This is an incredibly powerful tool for manipulating array elements but is beyond the scope of this course. You can read more about it [here](https://numpy.org/doc/stable/user/basics.indexing.html#index-arrays)."
   ]
  },
  {
   "cell_type": "markdown",
   "metadata": {},
   "source": [
    "## Reshaping and Combining Arrays"
   ]
  },
  {
   "cell_type": "markdown",
   "metadata": {},
   "source": [
    "### Reshaping Arrays"
   ]
  },
  {
   "cell_type": "markdown",
   "metadata": {},
   "source": [
    "We can reshape an array using the `.reshape()` method, passing in the new desired shape as a tuple."
   ]
  },
  {
   "cell_type": "code",
   "execution_count": 29,
   "metadata": {},
   "outputs": [
    {
     "data": {
      "text/plain": [
       "array([0.43596861, 0.19979843, 0.84330255, 0.00131699, 0.52015289,\n",
       "       0.37420111, 0.83538979, 0.78845628, 0.95699432, 0.80906816,\n",
       "       0.12208534, 0.01470883, 0.16476184, 0.71825449, 0.19086781,\n",
       "       0.86909496, 0.90120742, 0.22387314, 0.4913762 , 0.41367329,\n",
       "       0.83469178, 0.82570056, 0.38615197, 0.43278643, 0.27999835])"
      ]
     },
     "execution_count": 29,
     "metadata": {},
     "output_type": "execute_result"
    }
   ],
   "source": [
    "# Flatten a 5x5 random array\n",
    "arr = np.random.random(size=(5, 5))\n",
    "arr.reshape((25,))"
   ]
  },
  {
   "cell_type": "markdown",
   "metadata": {},
   "source": [
    "We are allowed to set one dimension to have the value `-1`, in which case this will be chosen so that the size of the new array matches the original."
   ]
  },
  {
   "cell_type": "code",
   "execution_count": 31,
   "metadata": {},
   "outputs": [
    {
     "data": {
      "text/plain": [
       "array([[[0.67721348, 0.48876295],\n",
       "        [0.21093284, 0.74855735]],\n",
       "\n",
       "       [[0.06648286, 0.99330668],\n",
       "        [0.32664572, 0.51434791]],\n",
       "\n",
       "       [[0.44175248, 0.39650237],\n",
       "        [0.13602572, 0.40678172]],\n",
       "\n",
       "       [[0.69497527, 0.84792626],\n",
       "        [0.78102952, 0.90785891]],\n",
       "\n",
       "       [[0.58444957, 0.75071443],\n",
       "        [0.08970446, 0.52476617]]])"
      ]
     },
     "execution_count": 31,
     "metadata": {},
     "output_type": "execute_result"
    }
   ],
   "source": [
    "# Group a flat array into 2x2 blocks\n",
    "arr = np.random.random(size=(20,))\n",
    "arr.reshape((-1, 2, 2))"
   ]
  },
  {
   "cell_type": "markdown",
   "metadata": {},
   "source": [
    "We can also use `reshape` to add new dummy dimensions."
   ]
  },
  {
   "cell_type": "code",
   "execution_count": 32,
   "metadata": {},
   "outputs": [
    {
     "data": {
      "text/plain": [
       "array([[[1, 2],\n",
       "        [3, 4]]])"
      ]
     },
     "execution_count": 32,
     "metadata": {},
     "output_type": "execute_result"
    }
   ],
   "source": [
    "# Turn a 2x2 array into a 1x2x2 array\n",
    "np.array([[1, 2], [3, 4]]).reshape((1, 2, 2))"
   ]
  },
  {
   "cell_type": "markdown",
   "metadata": {},
   "source": [
    "### Combining Arrays"
   ]
  },
  {
   "cell_type": "markdown",
   "metadata": {},
   "source": [
    "NumPy has many functions for combining (and splitting arrays). For the sake of time, we will only focus on a few, though you may want to checkout the following documentation for yourself:\n",
    "\n",
    "- [block](https://numpy.org/doc/stable/reference/generated/numpy.block.html)\n",
    "- [split](https://numpy.org/doc/stable/reference/generated/numpy.split.html)\n",
    "- [vstack](https://numpy.org/doc/stable/reference/generated/numpy.vstack.html), [hstack](https://numpy.org/doc/stable/reference/generated/numpy.hstack.html), [dstack](https://numpy.org/doc/stable/reference/generated/numpy.dstack.html)"
   ]
  },
  {
   "cell_type": "markdown",
   "metadata": {},
   "source": [
    "One of the functions we will cover is `concatenate`, which joins a sequence of arrays along an existing axis."
   ]
  },
  {
   "cell_type": "code",
   "execution_count": 35,
   "metadata": {},
   "outputs": [
    {
     "data": {
      "text/plain": [
       "(6, 2)"
      ]
     },
     "execution_count": 35,
     "metadata": {},
     "output_type": "execute_result"
    }
   ],
   "source": [
    "# Combine 3 three random 2x2 arrays into a 6x2 array\n",
    "X = np.random.random(size=(2, 2))\n",
    "Y = np.random.random(size=(2, 2))\n",
    "Z = np.random.random(size=(2, 2))\n",
    "C = np.concatenate((X, Y, Z), axis=0)\n",
    "C.shape"
   ]
  },
  {
   "cell_type": "markdown",
   "metadata": {},
   "source": [
    "A similar function is `stack`, which also joins a sequence of arrays, creating a _new_ axis in the process."
   ]
  },
  {
   "cell_type": "code",
   "execution_count": 36,
   "metadata": {},
   "outputs": [
    {
     "data": {
      "text/plain": [
       "(3, 2, 2)"
      ]
     },
     "execution_count": 36,
     "metadata": {},
     "output_type": "execute_result"
    }
   ],
   "source": [
    "# Combine 3 three random 2x2 arrays into a 3x2x2 array\n",
    "D = np.stack([X, Y, Z], axis=0)\n",
    "D.shape"
   ]
  },
  {
   "cell_type": "markdown",
   "metadata": {},
   "source": [
    "## Maths with NumPy"
   ]
  },
  {
   "cell_type": "markdown",
   "metadata": {},
   "source": [
    "The main reason we want to use NumPy is for quick and elegant mathematical operations. These take advantage of a technique called _vectorisation_ in which operations are applied element-wise rather than to the entire array."
   ]
  },
  {
   "cell_type": "markdown",
   "metadata": {},
   "source": [
    "### Arithmetic"
   ]
  },
  {
   "cell_type": "markdown",
   "metadata": {},
   "source": [
    "NumPy comes with a wide array (eh?) of built-in mathematical functions. Most are written in low-level, optimised C code so are lightning fast. A full list can be found [here](https://numpy.org/doc/stable/reference/routines.math.html). We can also use most base Python operators, which are then converted to the faster underlying functions."
   ]
  },
  {
   "cell_type": "code",
   "execution_count": 38,
   "metadata": {},
   "outputs": [],
   "source": [
    "# Create arrays to play with\n",
    "A = np.array([[1, 2], [3, 4]])\n",
    "B = np.array([[5, 6], [7, 8]])"
   ]
  },
  {
   "cell_type": "code",
   "execution_count": 39,
   "metadata": {},
   "outputs": [
    {
     "data": {
      "text/plain": [
       "array([[ 6,  8],\n",
       "       [10, 12]])"
      ]
     },
     "execution_count": 39,
     "metadata": {},
     "output_type": "execute_result"
    }
   ],
   "source": [
    "# Add A and B\n",
    "A + B"
   ]
  },
  {
   "cell_type": "code",
   "execution_count": 40,
   "metadata": {},
   "outputs": [
    {
     "data": {
      "text/plain": [
       "array([[ 6,  8],\n",
       "       [10, 12]])"
      ]
     },
     "execution_count": 40,
     "metadata": {},
     "output_type": "execute_result"
    }
   ],
   "source": [
    "# Add A and B using underlying function\n",
    "np.add(A, B)"
   ]
  },
  {
   "cell_type": "code",
   "execution_count": 41,
   "metadata": {},
   "outputs": [
    {
     "data": {
      "text/plain": [
       "array([[ 5, 12],\n",
       "       [21, 32]])"
      ]
     },
     "execution_count": 41,
     "metadata": {},
     "output_type": "execute_result"
    }
   ],
   "source": [
    "# Multiply corresponding elements of A and B\n",
    "A * B"
   ]
  },
  {
   "cell_type": "markdown",
   "metadata": {},
   "source": [
    "> **Note**\n",
    "> \n",
    "> You can perform matrix multiplication using `np.matmul` or the `@` operator (e.g. `A @ B`)."
   ]
  },
  {
   "cell_type": "code",
   "execution_count": 43,
   "metadata": {},
   "outputs": [
    {
     "data": {
      "text/plain": [
       "array([[1.        , 1.41421356],\n",
       "       [1.73205081, 2.        ]])"
      ]
     },
     "execution_count": 43,
     "metadata": {},
     "output_type": "execute_result"
    }
   ],
   "source": [
    "# Square root the elements in A\n",
    "np.sqrt(A)"
   ]
  },
  {
   "cell_type": "code",
   "execution_count": 45,
   "metadata": {},
   "outputs": [
    {
     "data": {
      "text/plain": [
       "array([[5. , 3. ],\n",
       "       [2.3, 2. ]])"
      ]
     },
     "execution_count": 45,
     "metadata": {},
     "output_type": "execute_result"
    }
   ],
   "source": [
    "# Divide the elements of B by A and round to 1dp\n",
    "np.round(B / A, 1)"
   ]
  },
  {
   "cell_type": "markdown",
   "metadata": {},
   "source": [
    "This brings us back to a faster way of plotting functions with `matplotlib`."
   ]
  },
  {
   "cell_type": "code",
   "execution_count": 46,
   "metadata": {},
   "outputs": [
    {
     "data": {
      "image/png": "[encoded data removed]",
      "text/plain": [
       "<Figure size 432x288 with 1 Axes>"
      ]
     },
     "metadata": {
      "needs_background": "light"
     },
     "output_type": "display_data"
    }
   ],
   "source": [
    "x = np.linspace(0, 10, 100)\n",
    "y = np.log(x + 1)\n",
    "fig, ax = plt.subplots()\n",
    "ax.plot(x, y)\n",
    "plt.show()"
   ]
  },
  {
   "cell_type": "markdown",
   "metadata": {},
   "source": [
    "> **Further Reading**\n",
    ">\n",
    "> It is possible (and incredibly powerful) to perform element-wise operations on arrays with different shapes. This is known as broadcasting and is an advanced NumPy feature documented [here](https://numpy.org/doc/stable/user/basics.broadcasting.html)."
   ]
  },
  {
   "cell_type": "markdown",
   "metadata": {},
   "source": [
    "We can vectorise our own functions for use with NumPy using `np.vectorize`, though performance will almost certainly suffer in the process. Note, there is no way in Python to make this function correspond to a new operator."
   ]
  },
  {
   "cell_type": "code",
   "execution_count": 47,
   "metadata": {},
   "outputs": [
    {
     "data": {
      "text/plain": [
       "array([[ 5, 12],\n",
       "       [-4, 12]])"
      ]
     },
     "execution_count": 47,
     "metadata": {},
     "output_type": "execute_result"
    }
   ],
   "source": [
    "def random_op(x, y):\n",
    "    rnd = np.random.random()\n",
    "    if rnd < 0.4:\n",
    "        return x + y\n",
    "    elif rnd < 0.8:\n",
    "        return x - y\n",
    "    else:\n",
    "        return x * y\n",
    "    \n",
    "# Vectorise random_op and apply to A and B\n",
    "random_op_vec = np.vectorize(random_op)\n",
    "random_op_vec(A, B)"
   ]
  },
  {
   "cell_type": "markdown",
   "metadata": {},
   "source": [
    "### Aggregations"
   ]
  },
  {
   "cell_type": "markdown",
   "metadata": {},
   "source": [
    "Whereas the above operations returned arrays the same size as the original, aggregate operations will return either a single value or a smaller array. The most common of these functions are listed [here](https://www.pythonprogramming.in/numpy-aggregate-and-statistical-functions.html)."
   ]
  },
  {
   "cell_type": "code",
   "execution_count": 48,
   "metadata": {},
   "outputs": [],
   "source": [
    "# Create data to play with\n",
    "np.random.seed(42)\n",
    "# 2 groups, 5 participants in each, 3 repeat measurements for each\n",
    "arr = np.random.standard_normal(size=(2, 5, 3))"
   ]
  },
  {
   "cell_type": "code",
   "execution_count": 49,
   "metadata": {},
   "outputs": [
    {
     "data": {
      "text/plain": [
       "-5.644406875531123"
      ]
     },
     "execution_count": 49,
     "metadata": {},
     "output_type": "execute_result"
    }
   ],
   "source": [
    "# Sum all elements in arr\n",
    "np.sum(arr)"
   ]
  },
  {
   "cell_type": "code",
   "execution_count": 50,
   "metadata": {},
   "outputs": [
    {
     "data": {
      "text/plain": [
       "array([[ 0.33537946,  0.35157984,  0.62572439, -0.12886247, -1.1320786 ],\n",
       "       [-0.42029044, -0.284893  , -0.52766543, -0.52815124, -0.17221147]])"
      ]
     },
     "execution_count": 50,
     "metadata": {},
     "output_type": "execute_result"
    }
   ],
   "source": [
    "# Average value for each participant over the 5 measurements\n",
    "np.mean(arr, axis=2)"
   ]
  },
  {
   "cell_type": "code",
   "execution_count": 51,
   "metadata": {},
   "outputs": [
    {
     "data": {
      "text/plain": [
       "array([1.57921282, 1.46564877])"
      ]
     },
     "execution_count": 51,
     "metadata": {},
     "output_type": "execute_result"
    }
   ],
   "source": [
    "# Maximum value in each group\n",
    "np.max(arr, axis=(1, 2))"
   ]
  },
  {
   "cell_type": "markdown",
   "metadata": {},
   "source": [
    "A particularly interesting pair of aggregate functions is `argmin`/`argmax`. Rather than finding the smallest/largest element, they tell you where it is."
   ]
  },
  {
   "cell_type": "code",
   "execution_count": 52,
   "metadata": {},
   "outputs": [
    {
     "data": {
      "text/plain": [
       "array([1, 5])"
      ]
     },
     "execution_count": 52,
     "metadata": {},
     "output_type": "execute_result"
    }
   ],
   "source": [
    "# Which participant of each group had the lowest variance?\n",
    "np.argmin(np.var(arr, axis=2), axis=1) + 1"
   ]
  },
  {
   "cell_type": "markdown",
   "metadata": {},
   "source": [
    "> **Useful Tip**\n",
    ">\n",
    "> You can also reference axes using negative indices"
   ]
  },
  {
   "cell_type": "markdown",
   "metadata": {},
   "source": [
    "### Accumulations"
   ]
  },
  {
   "cell_type": "markdown",
   "metadata": {},
   "source": [
    "A related family of functions is accumulations. These apply a function over an axis, returning the result at each step."
   ]
  },
  {
   "cell_type": "code",
   "execution_count": 53,
   "metadata": {},
   "outputs": [
    {
     "data": {
      "text/plain": [
       "array([[ 1,  3,  6],\n",
       "       [ 4,  9, 15]])"
      ]
     },
     "execution_count": 53,
     "metadata": {},
     "output_type": "execute_result"
    }
   ],
   "source": [
    "# Cummulative sum of arr\n",
    "arr = np.array([\n",
    "    [1, 2, 3],\n",
    "    [4, 5, 6]\n",
    "])\n",
    "np.cumsum(arr, axis=1)"
   ]
  },
  {
   "cell_type": "markdown",
   "metadata": {},
   "source": [
    "You can find a full list of these functions by searching for the prefix \"cum\" on the NumPy [function list](https://numpy.org/doc/stable/reference/routines.math.html?highlight=sum)."
   ]
  },
  {
   "cell_type": "markdown",
   "metadata": {},
   "source": [
    "> **Further Reading**\n",
    ">\n",
    "> You are also free to create your own aggregations (specifically, [reductions](https://numpy.org/doc/stable/reference/generated/numpy.ufunc.reduce.html)) and [accumulations](https://numpy.org/doc/stable/reference/generated/numpy.ufunc.accumulate.html) using the documentation linked here, though do note that these are both quite advanced features of the package."
   ]
  },
  {
   "cell_type": "markdown",
   "metadata": {},
   "source": [
    "## Filtering and Sorting"
   ]
  },
  {
   "cell_type": "markdown",
   "metadata": {},
   "source": [
    "Finally, we will look at how we can filter and sort arrays. We begin with filtering."
   ]
  },
  {
   "cell_type": "markdown",
   "metadata": {},
   "source": [
    "### Filtering"
   ]
  },
  {
   "cell_type": "markdown",
   "metadata": {},
   "source": [
    "We can use comparison operators with NumPy arrays to create Boolean arrays."
   ]
  },
  {
   "cell_type": "code",
   "execution_count": 65,
   "metadata": {},
   "outputs": [
    {
     "data": {
      "text/plain": [
       "array([ True,  True, False, False,  True,  True,  True, False,  True,\n",
       "       False])"
      ]
     },
     "execution_count": 65,
     "metadata": {},
     "output_type": "execute_result"
    }
   ],
   "source": [
    "# Which rows of A have a sum greater than one? Call the result B\n",
    "np.random.seed(253)\n",
    "A = np.random.standard_normal(size=(10, 10))\n",
    "B = np.sum(A, axis=1) > 0\n",
    "B"
   ]
  },
  {
   "cell_type": "markdown",
   "metadata": {},
   "source": [
    "We can then use Boolean arrays to filter along an axis of an array."
   ]
  },
  {
   "cell_type": "code",
   "execution_count": 66,
   "metadata": {},
   "outputs": [
    {
     "data": {
      "text/plain": [
       "array([[ 0.87157287, -1.13019516,  1.28219361,  3.30666723,  0.13063963,\n",
       "        -0.48921038, -0.34078095, -0.59258644, -0.43519562, -1.38283849],\n",
       "       [-0.57561558,  1.33532656,  0.78052562,  0.02216178,  0.65019844,\n",
       "        -0.8047665 , -0.79871126,  1.63540629,  2.17077612,  0.41283895],\n",
       "       [ 1.6907554 ,  2.50428286,  0.04413411, -1.32268295, -2.11490647,\n",
       "        -0.34783311, -0.60986001,  0.76699829,  1.63314801, -0.55285836],\n",
       "       [ 0.2685946 ,  0.93639279,  1.67594885,  0.04691898, -0.55740769,\n",
       "         0.25901479,  0.41432577,  0.49404523,  0.25059384,  0.07515829],\n",
       "       [-0.27629149, -0.30184233,  0.56891406,  0.17248246,  0.34852905,\n",
       "         0.8985324 ,  1.55793039,  0.27827483,  0.09287503, -0.18031924],\n",
       "       [ 0.40794901, -0.15202927,  0.23409006,  0.56477258,  0.4739841 ,\n",
       "        -0.28150999,  0.86380105,  0.57403094, -0.30289846,  1.70773309]])"
      ]
     },
     "execution_count": 66,
     "metadata": {},
     "output_type": "execute_result"
    }
   ],
   "source": [
    "# Select only rows with a sum greater than one\n",
    "A[B]"
   ]
  },
  {
   "cell_type": "markdown",
   "metadata": {},
   "source": [
    "> **Review**\n",
    ">\n",
    "> Now that you are aware of Boolean arrays, you may want to review the aggregation functions `np.all` and `np.any`."
   ]
  },
  {
   "cell_type": "markdown",
   "metadata": {},
   "source": [
    "We can also pass in a NumPy array of indexes (which could have been obtained from `argmin`, `argsort` (see later), or `argwhere` (read docs))."
   ]
  },
  {
   "cell_type": "code",
   "execution_count": 60,
   "metadata": {},
   "outputs": [
    {
     "data": {
      "text/plain": [
       "array([[-1.13019516,  3.30666723],\n",
       "       [ 1.33532656,  0.02216178],\n",
       "       [-0.25639718,  0.20477153],\n",
       "       [-1.43182202,  0.68349516],\n",
       "       [ 2.50428286, -1.32268295],\n",
       "       [ 0.93639279,  0.04691898],\n",
       "       [-0.30184233,  0.17248246],\n",
       "       [-2.1035325 ,  1.81971264],\n",
       "       [-0.15202927,  0.56477258],\n",
       "       [-0.38904207,  1.70877162]])"
      ]
     },
     "execution_count": 60,
     "metadata": {},
     "output_type": "execute_result"
    }
   ],
   "source": [
    "# Select 2nd and 4th columns using an array of indexes\n",
    "A[:, np.array([1, 3])]"
   ]
  },
  {
   "cell_type": "markdown",
   "metadata": {},
   "source": [
    "At this point you are likely wondering what happens when we run code such as `A[np.array([1, 2], [4, 2])]` or `A[A > 0]`. The answer all comes down to broadcasting, which we will not cover here, but can be read about at [this link](https://numpy.org/doc/stable/user/basics.broadcasting.html)."
   ]
  },
  {
   "cell_type": "markdown",
   "metadata": {},
   "source": [
    "### Sorting Arrays"
   ]
  },
  {
   "cell_type": "markdown",
   "metadata": {},
   "source": [
    "There are two ways to sort arrays in NumPy. The first is `arr.sort(...)` which returns a sorted **copy** of the original, and the second is `np.sort(arr, ...`) which sorts **in-place**. We will use the former but the same logic applies to the latter."
   ]
  },
  {
   "cell_type": "markdown",
   "metadata": {},
   "source": [
    "The only argument we need to specify in most use cases is `axis` which determines the axis to sort over. It is generally difficult to handle ties although you will find ways if you search online."
   ]
  },
  {
   "cell_type": "code",
   "execution_count": 63,
   "metadata": {},
   "outputs": [
    {
     "name": "stdout",
     "output_type": "stream",
     "text": [
      "[[[0.06424478 0.70240438]\n",
      "  [0.27641492 0.91114718]]\n",
      "\n",
      " [[0.63508194 0.75154075]\n",
      "  [0.1491439  0.17079266]]]\n"
     ]
    }
   ],
   "source": [
    "# Sort A over the last dimension\n",
    "A = np.random.random(size=(2, 2, 2))\n",
    "A.sort(axis=-1)\n",
    "print(A)"
   ]
  },
  {
   "cell_type": "markdown",
   "metadata": {},
   "source": [
    "When using `np.sort()`, by setting `axis=None` we sort the flattened array."
   ]
  },
  {
   "cell_type": "code",
   "execution_count": 64,
   "metadata": {},
   "outputs": [
    {
     "data": {
      "text/plain": [
       "array([0.06424478, 0.1491439 , 0.17079266, 0.27641492, 0.63508194,\n",
       "       0.70240438, 0.75154075, 0.91114718])"
      ]
     },
     "execution_count": 64,
     "metadata": {},
     "output_type": "execute_result"
    }
   ],
   "source": [
    "# Sort the flattened array of A\n",
    "np.sort(A, axis=None)"
   ]
  },
  {
   "cell_type": "markdown",
   "metadata": {},
   "source": [
    "Finally, we can use `np.argsort()` to return the indices that would result in a sorted array."
   ]
  },
  {
   "cell_type": "code",
   "execution_count": 68,
   "metadata": {},
   "outputs": [
    {
     "data": {
      "text/plain": [
       "array([2, 5, 0, 4, 3, 8, 9, 6, 7, 1])"
      ]
     },
     "execution_count": 68,
     "metadata": {},
     "output_type": "execute_result"
    }
   ],
   "source": [
    "# Argsort A, creating B\n",
    "np.random.seed(42)\n",
    "A = np.random.randint(100, size=(10,))\n",
    "B = np.argsort(A)\n",
    "B"
   ]
  },
  {
   "cell_type": "code",
   "execution_count": 69,
   "metadata": {},
   "outputs": [
    {
     "data": {
      "text/plain": [
       "True"
      ]
     },
     "execution_count": 69,
     "metadata": {},
     "output_type": "execute_result"
    }
   ],
   "source": [
    "np.all(np.sort(A) == A[B])"
   ]
  },
  {
   "cell_type": "markdown",
   "metadata": {},
   "source": [
    "## Wrapping Up"
   ]
  },
  {
   "cell_type": "markdown",
   "metadata": {},
   "source": [
    "### Saving NumPy arrays"
   ]
  },
  {
   "cell_type": "markdown",
   "metadata": {},
   "source": [
    "It is possible to save NumPy arrays to disk for later use. This isn't too common a requirement so we won't cover it in this session, but you can read more about it [here](https://numpy.org/doc/stable/reference/generated/numpy.save.html)."
   ]
  },
  {
   "cell_type": "markdown",
   "metadata": {},
   "source": [
    "### Sparsity"
   ]
  },
  {
   "cell_type": "markdown",
   "metadata": {},
   "source": [
    "The sparsity of an array is given by the proportion of zero elements out of all elements. When an array is highly sparse (typically >70-90% depending on the scenario), it can be stored in a different way to make operations faster and use less storage. NumPy only has the ability to work with _dense_ arrays, but thankfully, SciPy has us covered. The feature set of sparse arrays is more limited but when these meet you needs, they can often offer much faster computations with less storage requirements. Read more [here](https://docs.scipy.org/doc/scipy/reference/sparse.html)."
   ]
  }
 ],
 "metadata": {
  "kernelspec": {
   "display_name": "Python for Data Science",
   "language": "python",
   "name": "pyds"
  },
  "language_info": {
   "codemirror_mode": {
    "name": "ipython",
    "version": 3
   },
   "file_extension": ".py",
   "mimetype": "text/x-python",
   "name": "python",
   "nbconvert_exporter": "python",
   "pygments_lexer": "ipython3",
   "version": "3.8.8"
  }
 },
 "nbformat": 4,
 "nbformat_minor": 4
}
